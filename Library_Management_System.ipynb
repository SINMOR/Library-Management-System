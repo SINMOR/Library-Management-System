{
 "cells": [
  {
   "cell_type": "markdown",
   "metadata": {},
   "source": [
    "## LIBRARY MANAGEMENT SYSTEM "
   ]
  },
  {
   "cell_type": "code",
   "execution_count": 1,
   "metadata": {},
   "outputs": [],
   "source": [
    "# import necessary libraries \n",
    "import datetime"
   ]
  },
  {
   "cell_type": "markdown",
   "metadata": {},
   "source": [
    "### Define Data structures "
   ]
  },
  {
   "cell_type": "code",
   "execution_count": 2,
   "metadata": {},
   "outputs": [],
   "source": [
    "# Create lists and dictionaries to store information about the books, borrowed books, and users.\n",
    "\n",
    "library_books = []\n",
    "borrowed_books = {}\n",
    "users = []"
   ]
  },
  {
   "cell_type": "markdown",
   "metadata": {},
   "source": [
    "### Define functions "
   ]
  },
  {
   "cell_type": "code",
   "execution_count": 3,
   "metadata": {},
   "outputs": [],
   "source": [
    "# Function to add a book to the library \n",
    "def add_book (book_id,title,yop,author):\n",
    "    book = {\n",
    "        \"book_id\":book_id,\n",
    "        \"title\":title,\n",
    "        \"yop\":yop,\n",
    "        \"author\":author,\n",
    "        \"available\":True   \n",
    "    }\n",
    "    library_books.append(book) # add the book to the library_books_list\n",
    "    print(f\"The book {title} by {author} has been added to library \")\n",
    "    "
   ]
  },
  {
   "cell_type": "code",
   "execution_count": 4,
   "metadata": {},
   "outputs": [],
   "source": [
    "# Function to search a  book \n",
    "def search_book(title):\n",
    "    found_books = [\n",
    "        book for book in library_books\n",
    "        if title.lower() in book[\"title\"].lower()\n",
    "    ]\n",
    "    \n",
    "    if found_books:\n",
    "        # iterate through the found book\n",
    "        for book in found_books:\n",
    "            status = \"available \" if book[\"available\"] else \"borrowed\"\n",
    "            print(\n",
    "                f\"ID:{book['book_id']}, Title : {book['title']},\"\n",
    "                f\"Author:{book['author']}, Status:{status}\"\n",
    "            )\n",
    "    \n",
    "    else:\n",
    "        print(\"Books with that title not found!!\")\n",
    "        \n",
    "    "
   ]
  },
  {
   "cell_type": "code",
   "execution_count": 5,
   "metadata": {},
   "outputs": [],
   "source": [
    "# Function to borrow a book \n",
    "def borrow_book(user,book_id):\n",
    "    for book in library_books:\n",
    "        if book[book_id] == book_id and book[\"available\"]:\n",
    "            book[\"available\"]= False # mark the book unavailable\n",
    "            borrowed_books[book_id] = {\n",
    "                    \"user\" : user,\n",
    "                    \"borrow_date\" :datetime.date.today()\n",
    "                \n",
    "            }\n",
    "            print(f\"Book '{book['title']}' borrowed by {user}\")\n",
    "            return\n",
    "    print(\"Book not available or doesnt exist\")\n",
    "    \n",
    "    "
   ]
  },
  {
   "cell_type": "code",
   "execution_count": 6,
   "metadata": {},
   "outputs": [],
   "source": [
    "#Function to return book\n",
    "def return_book(book_id):\n",
    "    if book_id in borrowed_books:\n",
    "        for book in library_books:\n",
    "            if book[book_id] == book_id:\n",
    "                book['available']= True\n",
    "                borrowed_books.pop(book_id) # Remove the books from the borrowed_books\n",
    "                print(f\"Book {book['title']} returned\")\n",
    "                return\n",
    "    print(\"Book not found in borrowed books. \")\n",
    "    "
   ]
  },
  {
   "cell_type": "code",
   "execution_count": 7,
   "metadata": {},
   "outputs": [],
   "source": [
    "#implement user interaction \n",
    "def main():\n",
    "    while True:\n",
    "        print(\"\\nWelcome to your library management\")\n",
    "        print(\"(Please select your choice)\")\n",
    "        print()\n",
    "        print(\"1. Add Book\")\n",
    "        print(\"2. Search Book\")\n",
    "        print(\"3. Borrow Book\")\n",
    "        print(\"4. Return Book\")\n",
    "        print(\"5. Exit\")\n",
    "        choice = input(\"Enter your choice: \")\n",
    "        # Handle user choices for library operations\n",
    "        if choice == \"1\":\n",
    "            book_id = input(int(\"Enter the Book ID: \"))\n",
    "            title = input(\"Enter the Book Title: \")\n",
    "            yop = input(\"Enter the Year of Publication: \")\n",
    "            author = input(\"Enter the  Author name:  \")\n",
    "            add_book(book_id,title,yop,author)  # call the function add_book\n",
    "            break\n",
    "        elif choice == \"2\":\n",
    "            title = input(\"Enter the title of the book to search\")\n",
    "            search_book(title) # call the function search_book\n",
    "            break\n",
    "        elif choice == \"3\" :\n",
    "            user = input(\"Enter the your  username \")\n",
    "            book_id = input(\"Enter the Book ID\")\n",
    "            borrow_book(user,book_id) # call the function borrow_book\n",
    "            break\n",
    "        elif choice == \"4\" :\n",
    "            book_id = input(\"Enter the Book ID Tto return\")\n",
    "            return_book(book_id) # call the function return_book\n",
    "            break\n",
    "        elif choice == \"6\" :\n",
    "            print (\"Exiting the system.Goodbye!\") # Exit message \n",
    "            break\n",
    "        else:\n",
    "            print(\"Invalid choice.Please try again\")\n",
    "        \n",
    "\n"
   ]
  },
  {
   "cell_type": "code",
   "execution_count": 8,
   "metadata": {},
   "outputs": [
    {
     "name": "stdout",
     "output_type": "stream",
     "text": [
      "\n",
      "Welcome to your library management\n",
      "(Please select your choice)\n",
      "\n",
      "1. Add Book\n",
      "2. Search Book\n",
      "3. Borrow Book\n",
      "4. Return Book\n",
      "5. Exit\n",
      "The book 1001 by 2004 has been added to library \n",
      "\n",
      "Welcome to your library management\n"
     ]
    }
   ],
   "source": [
    "main()"
   ]
  },
  {
   "cell_type": "code",
   "execution_count": null,
   "metadata": {},
   "outputs": [],
   "source": []
  }
 ],
 "metadata": {
  "kernelspec": {
   "display_name": "base",
   "language": "python",
   "name": "python3"
  },
  "language_info": {
   "codemirror_mode": {
    "name": "ipython",
    "version": 3
   },
   "file_extension": ".py",
   "mimetype": "text/x-python",
   "name": "python",
   "nbconvert_exporter": "python",
   "pygments_lexer": "ipython3",
   "version": "3.9.13"
  }
 },
 "nbformat": 4,
 "nbformat_minor": 2
}
